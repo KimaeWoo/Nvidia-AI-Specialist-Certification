{
 "cells": [
  {
   "cell_type": "code",
   "execution_count": null,
   "metadata": {
    "vscode": {
     "languageId": "plaintext"
    }
   },
   "outputs": [],
   "source": [
    "sudo apt-get install git\n",
    "git clone https://github.com/ultralytics/yolov5.git\n",
    "cd yolov5\n",
    "sudo apt-get install python3-pip\n",
    "pip3 install -r requirements.txt\n",
    "\n",
    "import os\n",
    "import shutil\n",
    "from sklearn.model_selection import train_test_split\n",
    "import numpy as np\n",
    "from PIL import Image\n",
    "\n",
    "def create_validation_set(train_path, val_path, split_ratio=0.3):\n",
    "    os.makedirs(os.path.join(val_path, 'images'), exist_ok=True)\n",
    "    os.makedirs(os.path.join(val_path, 'labels'), exist_ok=True)\n",
    "\n",
    "    train_images = os.listdir(os.path.join(train_path, 'images'))\n",
    "    train_images = [f for f in train_images if f.endswith(('.jpg', '.jpeg', '.png'))]\n",
    "\n",
    "    _, val_images = train_test_split(train_images, test_size=split_ratio, random_state=42)\n",
    "\n",
    "    for image_file in val_images:\n",
    "        src_image = os.path.join(train_path, 'images', image_file)\n",
    "        dst_image = os.path.join(val_path, 'images', image_file)\n",
    "        shutil.copy2(src_image, dst_image)\n",
    "\n",
    "        label_file = os.path.splitext(image_file)[0] + '.txt'\n",
    "        src_label = os.path.join(train_path, 'labels', label_file)\n",
    "        dst_label = os.path.join(val_path, 'labels', label_file)\n",
    "        if os.path.exists(src_label):\n",
    "            shutil.copy2(src_label, dst_label)\n",
    "\n",
    "    print(f\"Created validation set with {len(val_images)} images\")\n",
    "\n",
    "def _preproc(image, output_height=512, output_width=512, resize_side=512):\n",
    "    ''' imagenet-standard: aspect-preserving resize to 256px smaller-side, then central-crop to 224px'''\n",
    "    h, w = image.shape[0], image.shape[1]\n",
    "    scale = resize_side / min(h, w)\n",
    "    resized_image = np.array(Image.fromarray(image).resize((int(w*scale), int(h*scale))))\n",
    "    cropped_image = resized_image[:output_height, :output_width]\n",
    "    return cropped_image\n",
    "\n",
    "def Create_npy(imagespath, imgsize, ext):\n",
    "    images_list = [img_name for img_name in os.listdir(imagespath) if os.path.splitext(img_name)[1].lower() == '.'+ext.lower()]\n",
    "    calib_dataset = np.zeros((len(images_list), imgsize, imgsize, 3), dtype=np.float32)\n",
    "\n",
    "    for idx, img_name in enumerate(sorted(images_list)):\n",
    "        img_path = os.path.join(imagespath, img_name)\n",
    "        try:\n",
    "            img = Image.open(img_path)\n",
    "            img = img.convert(\"RGB\")\n",
    "            img_np = np.array(img)\n",
    "\n",
    "            img_preproc = _preproc(img_np, imgsize, imgsize, imgsize)\n",
    "            calib_dataset[idx, :, :, :] = img_preproc\n",
    "            print(f\"Processed image {img_path}\")\n",
    "        except Exception as e:\n",
    "            print(f\"Error processing image {img_path}: {e}\")\n",
    "\n",
    "    np.save('calib_set.npy', calib_dataset)\n",
    "\n",
    "train_path = '/home/amap/yolov5/Train'\n",
    "val_path = '/home/amap/yolov5/Val'\n",
    "\n",
    "create_validation_set(train_path, val_path)\n",
    "\n",
    "Create_npy('/home/amap/yolov5/Train/images', 512, 'jpg')\n",
    "\n",
    "!python3 train.py --img 512 --batch 16 --epochs 300 --data /home/amap/yolov5/data.yaml --weights yolov5n.pt --cache\n",
    "\n",
    "!python3 detect.py --weights /home/amap/yolov5/runs/train/PedestrianLight/weights/best.pt --source /home/amap/yolov5/video/vd.mp4\n"
   ]
  }
 ],
 "metadata": {
  "accelerator": "GPU",
  "colab": {
   "gpuType": "T4",
   "provenance": []
  },
  "kernelspec": {
   "display_name": "Python 3",
   "name": "python3"
  },
  "language_info": {
   "name": "python"
  }
 },
 "nbformat": 4,
 "nbformat_minor": 0
}
